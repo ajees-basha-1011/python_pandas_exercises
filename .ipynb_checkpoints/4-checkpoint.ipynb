{
 "cells": [
  {
   "cell_type": "code",
   "execution_count": 1,
   "id": "5b9db63c",
   "metadata": {},
   "outputs": [],
   "source": [
    "import pandas as pd"
   ]
  },
  {
   "cell_type": "code",
   "execution_count": 6,
   "id": "e36c0e9a",
   "metadata": {},
   "outputs": [
    {
     "name": "stdout",
     "output_type": "stream",
     "text": [
      "Pokemon\n",
      "Bulbasaur     Grass\n",
      "Ivysaur       Grass\n",
      "Venusaur      Grass\n",
      "Charmander     Fire\n",
      "Charmeleon     Fire\n",
      "Name: Type, dtype: object\n"
     ]
    }
   ],
   "source": [
    "data = pd.read_csv(\"pokemon.csv\",index_col = \"Pokemon\", squeeze = True)\n",
    "print(data.head())"
   ]
  },
  {
   "cell_type": "code",
   "execution_count": 7,
   "id": "44652964",
   "metadata": {},
   "outputs": [
    {
     "name": "stdout",
     "output_type": "stream",
     "text": [
      "Grass\n"
     ]
    }
   ],
   "source": [
    "print(data[\"Bulbasaur\"])"
   ]
  },
  {
   "cell_type": "code",
   "execution_count": 15,
   "id": "f40ddcf1",
   "metadata": {},
   "outputs": [
    {
     "name": "stdout",
     "output_type": "stream",
     "text": [
      "Pokemon\n",
      "Bulbasaur    Grass\n",
      "Ivysaur      Grass\n",
      "Name: Type, dtype: object\n"
     ]
    }
   ],
   "source": [
    "print(data[[\"Bulbasaur\",\"Ivysaur\"]])"
   ]
  },
  {
   "cell_type": "code",
   "execution_count": 16,
   "id": "f2652577",
   "metadata": {},
   "outputs": [
    {
     "name": "stdout",
     "output_type": "stream",
     "text": [
      "Grass\n"
     ]
    }
   ],
   "source": [
    "print(data.get(0))"
   ]
  },
  {
   "cell_type": "code",
   "execution_count": 18,
   "id": "b4651549",
   "metadata": {},
   "outputs": [
    {
     "name": "stdout",
     "output_type": "stream",
     "text": [
      "Pokemon\n",
      "Bulbasaur    Grass\n",
      "Name: Type, dtype: object\n"
     ]
    }
   ],
   "source": [
    "print(data.get([\"Bulbasaur\"]))"
   ]
  },
  {
   "cell_type": "code",
   "execution_count": 19,
   "id": "e621daff",
   "metadata": {},
   "outputs": [
    {
     "name": "stdout",
     "output_type": "stream",
     "text": [
      "Pokemon\n",
      "Bulbasaur    Grass\n",
      "Ivysaur      Grass\n",
      "Venusaur     Grass\n",
      "Name: Type, dtype: object\n"
     ]
    }
   ],
   "source": [
    "print(data.get([0,1,2]))"
   ]
  },
  {
   "cell_type": "code",
   "execution_count": 21,
   "id": "069de759",
   "metadata": {},
   "outputs": [
    {
     "name": "stdout",
     "output_type": "stream",
     "text": [
      "Pokemon\n",
      "Bulbasaur    Grass\n",
      "Ivysaur      Grass\n",
      "Name: Type, dtype: object\n"
     ]
    }
   ],
   "source": [
    "print(data.get([\"Bulbasaur\",\"Ivysaur\"], default = \"Not exist\"))"
   ]
  },
  {
   "cell_type": "code",
   "execution_count": 23,
   "id": "91eb295c",
   "metadata": {},
   "outputs": [
    {
     "name": "stdout",
     "output_type": "stream",
     "text": [
      "Not exist\n"
     ]
    }
   ],
   "source": [
    "print(data.get([\"Bulb\",\"Ivy\"], default = \"Not exist\"))"
   ]
  },
  {
   "cell_type": "code",
   "execution_count": null,
   "id": "1ca1ceea",
   "metadata": {},
   "outputs": [],
   "source": []
  }
 ],
 "metadata": {
  "kernelspec": {
   "display_name": "Python 3 (ipykernel)",
   "language": "python",
   "name": "python3"
  },
  "language_info": {
   "codemirror_mode": {
    "name": "ipython",
    "version": 3
   },
   "file_extension": ".py",
   "mimetype": "text/x-python",
   "name": "python",
   "nbconvert_exporter": "python",
   "pygments_lexer": "ipython3",
   "version": "3.9.7"
  }
 },
 "nbformat": 4,
 "nbformat_minor": 5
}
