{
 "cells": [
  {
   "cell_type": "code",
   "execution_count": 1,
   "id": "7609181f",
   "metadata": {},
   "outputs": [],
   "source": [
    "import pandas as pd"
   ]
  },
  {
   "cell_type": "code",
   "execution_count": 3,
   "id": "45c6e674",
   "metadata": {},
   "outputs": [
    {
     "name": "stdout",
     "output_type": "stream",
     "text": [
      "        New York  Los Angeles  Miami\n",
      "Date                                \n",
      "1/1/16       985          122    499\n",
      "1/2/16       738          788    534\n",
      "1/3/16        14           20    933\n"
     ]
    }
   ],
   "source": [
    "data = pd.read_csv(\"revenue.csv\", index_col = \"Date\")\n",
    "print(data.head(3))"
   ]
  },
  {
   "cell_type": "code",
   "execution_count": 4,
   "id": "44674902",
   "metadata": {},
   "outputs": [
    {
     "name": "stdout",
     "output_type": "stream",
     "text": [
      "Index(['New York', 'Los Angeles', 'Miami'], dtype='object')\n"
     ]
    }
   ],
   "source": [
    "print(data.columns)"
   ]
  },
  {
   "cell_type": "code",
   "execution_count": 5,
   "id": "479770fe",
   "metadata": {},
   "outputs": [
    {
     "name": "stdout",
     "output_type": "stream",
     "text": [
      "Index(['1/1/16', '1/2/16', '1/3/16', '1/4/16', '1/5/16', '1/6/16', '1/7/16',\n",
      "       '1/8/16', '1/9/16', '1/10/16'],\n",
      "      dtype='object', name='Date')\n"
     ]
    }
   ],
   "source": [
    "print(data.index)"
   ]
  },
  {
   "cell_type": "code",
   "execution_count": 6,
   "id": "21abe51a",
   "metadata": {},
   "outputs": [
    {
     "name": "stdout",
     "output_type": "stream",
     "text": [
      "Date\n",
      "1/1/16     1606\n",
      "1/2/16     2060\n",
      "1/3/16      967\n",
      "1/4/16     2519\n",
      "1/5/16      438\n",
      "1/6/16     1935\n",
      "1/7/16     1234\n",
      "1/8/16     2313\n",
      "1/9/16     2623\n",
      "1/10/16     555\n",
      "dtype: int64\n"
     ]
    }
   ],
   "source": [
    "print(data.sum(axis = \"columns\"))"
   ]
  },
  {
   "cell_type": "code",
   "execution_count": 7,
   "id": "8a51130c",
   "metadata": {},
   "outputs": [
    {
     "name": "stdout",
     "output_type": "stream",
     "text": [
      "New York       5475\n",
      "Los Angeles    5134\n",
      "Miami          5641\n",
      "dtype: int64\n"
     ]
    }
   ],
   "source": [
    "print(data.sum(axis = \"rows\"))"
   ]
  },
  {
   "cell_type": "code",
   "execution_count": 8,
   "id": "92c5c55b",
   "metadata": {},
   "outputs": [
    {
     "name": "stdout",
     "output_type": "stream",
     "text": [
      "Date\n",
      "1/1/16     122\n",
      "1/2/16     788\n",
      "1/3/16      20\n",
      "1/4/16     904\n",
      "1/5/16      71\n",
      "1/6/16     502\n",
      "1/7/16     996\n",
      "1/8/16     492\n",
      "1/9/16     954\n",
      "1/10/16    285\n",
      "Name: Los Angeles, dtype: int64\n"
     ]
    }
   ],
   "source": [
    "print(data[\"Los Angeles\"])"
   ]
  },
  {
   "cell_type": "code",
   "execution_count": 9,
   "id": "3a377ba1",
   "metadata": {},
   "outputs": [
    {
     "name": "stdout",
     "output_type": "stream",
     "text": [
      "Date\n",
      "1/1/16     499\n",
      "1/2/16     534\n",
      "1/3/16     933\n",
      "1/4/16     885\n",
      "1/5/16     253\n",
      "1/6/16     497\n",
      "1/7/16     115\n",
      "1/8/16     886\n",
      "1/9/16     823\n",
      "1/10/16    216\n",
      "Name: Miami, dtype: int64\n"
     ]
    }
   ],
   "source": [
    "print(data.Miami)"
   ]
  },
  {
   "cell_type": "code",
   "execution_count": 10,
   "id": "f0176f96",
   "metadata": {},
   "outputs": [
    {
     "name": "stdout",
     "output_type": "stream",
     "text": [
      "         New York  Los Angeles\n",
      "Date                          \n",
      "1/1/16        985          122\n",
      "1/2/16        738          788\n",
      "1/3/16         14           20\n",
      "1/4/16        730          904\n",
      "1/5/16        114           71\n",
      "1/6/16        936          502\n",
      "1/7/16        123          996\n",
      "1/8/16        935          492\n",
      "1/9/16        846          954\n",
      "1/10/16        54          285\n"
     ]
    }
   ],
   "source": [
    "print(data[['New York', 'Los Angeles']])"
   ]
  },
  {
   "cell_type": "code",
   "execution_count": 11,
   "id": "19042564",
   "metadata": {},
   "outputs": [
    {
     "name": "stdout",
     "output_type": "stream",
     "text": [
      "        New York  Los Angeles  Miami  Chicago\n",
      "Date                                         \n",
      "1/1/16       985          122    499      100\n",
      "1/2/16       738          788    534      100\n",
      "1/3/16        14           20    933      100\n",
      "1/4/16       730          904    885      100\n",
      "1/5/16       114           71    253      100\n"
     ]
    }
   ],
   "source": [
    "data[\"Chicago\"] = 100\n",
    "print(data.head())"
   ]
  },
  {
   "cell_type": "code",
   "execution_count": null,
   "id": "ef53e7f6",
   "metadata": {},
   "outputs": [],
   "source": []
  }
 ],
 "metadata": {
  "kernelspec": {
   "display_name": "Python 3 (ipykernel)",
   "language": "python",
   "name": "python3"
  },
  "language_info": {
   "codemirror_mode": {
    "name": "ipython",
    "version": 3
   },
   "file_extension": ".py",
   "mimetype": "text/x-python",
   "name": "python",
   "nbconvert_exporter": "python",
   "pygments_lexer": "ipython3",
   "version": "3.9.7"
  }
 },
 "nbformat": 4,
 "nbformat_minor": 5
}
