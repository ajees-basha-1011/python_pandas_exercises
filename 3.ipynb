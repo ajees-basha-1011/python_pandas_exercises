{
 "cells": [
  {
   "cell_type": "code",
   "execution_count": 1,
   "id": "acde4ede",
   "metadata": {},
   "outputs": [],
   "source": [
    "import pandas as pd"
   ]
  },
  {
   "cell_type": "code",
   "execution_count": 7,
   "id": "9e587cca",
   "metadata": {},
   "outputs": [
    {
     "name": "stdout",
     "output_type": "stream",
     "text": [
      "0     Bulbasaur\n",
      "1       Ivysaur\n",
      "2      Venusaur\n",
      "3    Charmander\n",
      "4    Charmeleon\n",
      "Name: Pokemon, dtype: object\n"
     ]
    }
   ],
   "source": [
    "data = pd.read_csv(\"pokemon.csv\",usecols = [\"Pokemon\"], squeeze = True)\n",
    "\n",
    "print(data.head())"
   ]
  },
  {
   "cell_type": "code",
   "execution_count": 10,
   "id": "47933911",
   "metadata": {},
   "outputs": [
    {
     "name": "stdout",
     "output_type": "stream",
     "text": [
      "459    Abomasnow\n",
      "62          Abra\n",
      "358        Absol\n",
      "616     Accelgor\n",
      "680    Aegislash\n",
      "Name: Pokemon, dtype: object\n"
     ]
    }
   ],
   "source": [
    "data.sort_values(ascending = True, inplace = True)\n",
    "print(data.head())"
   ]
  },
  {
   "cell_type": "code",
   "execution_count": 13,
   "id": "7bdad245",
   "metadata": {},
   "outputs": [
    {
     "name": "stdout",
     "output_type": "stream",
     "text": [
      "720    Volcanion\n",
      "719        Hoopa\n",
      "718      Diancie\n",
      "717      Zygarde\n",
      "716      Yveltal\n",
      "Name: Pokemon, dtype: object\n"
     ]
    }
   ],
   "source": [
    "data.sort_index(ascending = False, inplace = True)\n",
    "print(data.head())"
   ]
  },
  {
   "cell_type": "code",
   "execution_count": 17,
   "id": "948f6ffb",
   "metadata": {},
   "outputs": [
    {
     "name": "stdout",
     "output_type": "stream",
     "text": [
      "5    a\n",
      "2    b\n",
      "3    c\n",
      "4    d\n",
      "1    e\n",
      "dtype: object\n"
     ]
    }
   ],
   "source": [
    "number = [5, 2, 3, 4, 1]\n",
    "names = ['a','b','c','d','e']\n",
    "\n",
    "data1 = pd.Series(data = names, index = number)\n",
    "print(data1)"
   ]
  },
  {
   "cell_type": "code",
   "execution_count": 18,
   "id": "48fb05ec",
   "metadata": {},
   "outputs": [
    {
     "name": "stdout",
     "output_type": "stream",
     "text": [
      "1    e\n",
      "2    b\n",
      "3    c\n",
      "4    d\n",
      "5    a\n",
      "dtype: object\n"
     ]
    }
   ],
   "source": [
    "data.sort_index(inplace = True)\n",
    "print(data)"
   ]
  },
  {
   "cell_type": "code",
   "execution_count": 19,
   "id": "c7fd1c34",
   "metadata": {},
   "outputs": [
    {
     "data": {
      "text/plain": [
       "True"
      ]
     },
     "execution_count": 19,
     "metadata": {},
     "output_type": "execute_result"
    }
   ],
   "source": [
    "1 in data"
   ]
  },
  {
   "cell_type": "code",
   "execution_count": 25,
   "id": "69d09888",
   "metadata": {},
   "outputs": [
    {
     "data": {
      "text/plain": [
       "False"
      ]
     },
     "execution_count": 25,
     "metadata": {},
     "output_type": "execute_result"
    }
   ],
   "source": [
    "6 in data.index\n"
   ]
  },
  {
   "cell_type": "code",
   "execution_count": 26,
   "id": "fcf5d683",
   "metadata": {},
   "outputs": [
    {
     "data": {
      "text/plain": [
       "True"
      ]
     },
     "execution_count": 26,
     "metadata": {},
     "output_type": "execute_result"
    }
   ],
   "source": [
    "\n",
    "\"a\" in data.values"
   ]
  },
  {
   "cell_type": "code",
   "execution_count": 28,
   "id": "b85e2049",
   "metadata": {},
   "outputs": [
    {
     "name": "stdout",
     "output_type": "stream",
     "text": [
      "1    a\n",
      "2    b\n",
      "3    c\n",
      "4    d\n",
      "5    e\n",
      "dtype: object\n"
     ]
    }
   ],
   "source": [
    "number = [1, 2, 3, 4, 5]\n",
    "names = ['a','b','c','d','e']\n",
    "\n",
    "\n",
    "data = pd.Series(data = names, index = number)\n",
    "print(data)"
   ]
  },
  {
   "cell_type": "code",
   "execution_count": 34,
   "id": "7ee88932",
   "metadata": {},
   "outputs": [
    {
     "name": "stdout",
     "output_type": "stream",
     "text": [
      "b\n"
     ]
    }
   ],
   "source": [
    "print(data[2])"
   ]
  },
  {
   "cell_type": "code",
   "execution_count": 37,
   "id": "d7e98127",
   "metadata": {},
   "outputs": [
    {
     "name": "stdout",
     "output_type": "stream",
     "text": [
      "1    a\n",
      "2    b\n",
      "3    c\n",
      "dtype: object\n"
     ]
    }
   ],
   "source": [
    "print(data[[1,2,3]])"
   ]
  },
  {
   "cell_type": "code",
   "execution_count": null,
   "id": "aafe059d",
   "metadata": {},
   "outputs": [],
   "source": []
  }
 ],
 "metadata": {
  "kernelspec": {
   "display_name": "Python 3 (ipykernel)",
   "language": "python",
   "name": "python3"
  },
  "language_info": {
   "codemirror_mode": {
    "name": "ipython",
    "version": 3
   },
   "file_extension": ".py",
   "mimetype": "text/x-python",
   "name": "python",
   "nbconvert_exporter": "python",
   "pygments_lexer": "ipython3",
   "version": "3.9.7"
  }
 },
 "nbformat": 4,
 "nbformat_minor": 5
}
