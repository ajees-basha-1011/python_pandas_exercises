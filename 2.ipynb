{
 "cells": [
  {
   "cell_type": "code",
   "execution_count": 7,
   "id": "e5165f16",
   "metadata": {},
   "outputs": [],
   "source": [
    "import pandas as pd"
   ]
  },
  {
   "cell_type": "code",
   "execution_count": 18,
   "id": "3142ebd2",
   "metadata": {},
   "outputs": [
    {
     "name": "stdout",
     "output_type": "stream",
     "text": [
      "     Pokemon   Type\n",
      "0  Bulbasaur  Grass\n",
      "1    Ivysaur  Grass\n",
      "2   Venusaur  Grass\n"
     ]
    }
   ],
   "source": [
    "data = pd.read_csv(\"pokemon.csv\")\n",
    "print(data.head(3))"
   ]
  },
  {
   "cell_type": "code",
   "execution_count": 22,
   "id": "bffff06e",
   "metadata": {},
   "outputs": [
    {
     "name": "stdout",
     "output_type": "stream",
     "text": [
      "     Pokemon\n",
      "0  Bulbasaur\n",
      "1    Ivysaur\n",
      "2   Venusaur\n"
     ]
    }
   ],
   "source": [
    "data1 = pd.read_csv(\"pokemon.csv\", usecols = [\"Pokemon\"])\n",
    "print(data1.head(3))"
   ]
  },
  {
   "cell_type": "code",
   "execution_count": 23,
   "id": "797a6708",
   "metadata": {},
   "outputs": [
    {
     "name": "stdout",
     "output_type": "stream",
     "text": [
      "0    Bulbasaur\n",
      "1      Ivysaur\n",
      "2     Venusaur\n",
      "Name: Pokemon, dtype: object\n"
     ]
    }
   ],
   "source": [
    "\n",
    "data = pd.read_csv(\"pokemon.csv\", usecols = [\"Pokemon\"], squeeze = True)\n",
    "print(data.head(3))"
   ]
  },
  {
   "cell_type": "code",
   "execution_count": 29,
   "id": "d490d478",
   "metadata": {},
   "outputs": [
    {
     "name": "stdout",
     "output_type": "stream",
     "text": [
      "0     Bulbasaur\n",
      "1       Ivysaur\n",
      "2      Venusaur\n",
      "3    Charmander\n",
      "4    Charmeleon\n",
      "Name: Pokemon, dtype: object\n"
     ]
    }
   ],
   "source": [
    "print(data.head())"
   ]
  },
  {
   "cell_type": "code",
   "execution_count": 30,
   "id": "56f311b1",
   "metadata": {},
   "outputs": [
    {
     "name": "stdout",
     "output_type": "stream",
     "text": [
      "716      Yveltal\n",
      "717      Zygarde\n",
      "718      Diancie\n",
      "719        Hoopa\n",
      "720    Volcanion\n",
      "Name: Pokemon, dtype: object\n"
     ]
    }
   ],
   "source": [
    "print(data.tail())"
   ]
  },
  {
   "cell_type": "code",
   "execution_count": 33,
   "id": "d46a46fc",
   "metadata": {},
   "outputs": [
    {
     "name": "stdout",
     "output_type": "stream",
     "text": [
      "721\n",
      "-----\n",
      "<class 'pandas.core.series.Series'>\n",
      "-----\n",
      "Abomasnow\n",
      "-----\n",
      "Zygarde\n",
      "-----\n",
      "['Bulbasaur', 'Ivysaur', 'Venusaur', 'Charmander', 'Charmeleon']\n",
      "-----\n",
      "{0: 'Bulbasaur', 1: 'Ivysaur', 2: 'Venusaur', 3: 'Charmander', 4: 'Charmeleon'}\n",
      "-----\n",
      "['Bulbasaur', 'Charmander', 'Charmeleon', 'Ivysaur', 'Venusaur']\n"
     ]
    }
   ],
   "source": [
    "print(len(data))\n",
    "print(\"-----\")\n",
    "print(type(data))\n",
    "print(\"-----\")\n",
    "print(min(data))\n",
    "print(\"-----\")\n",
    "print(max(data))\n",
    "print(\"-----\")\n",
    "print(list(data.head()))\n",
    "print(\"-----\")\n",
    "print(dict(data.head()))\n",
    "print(\"-----\")\n",
    "print(sorted(data.head()))"
   ]
  },
  {
   "cell_type": "code",
   "execution_count": 36,
   "id": "d91665b9",
   "metadata": {},
   "outputs": [
    {
     "name": "stdout",
     "output_type": "stream",
     "text": [
      "717      Zygarde\n",
      "633     Zweilous\n",
      "40         Zubat\n",
      "569        Zorua\n",
      "570      Zoroark\n",
      "         ...    \n",
      "680    Aegislash\n",
      "616     Accelgor\n",
      "358        Absol\n",
      "62          Abra\n",
      "459    Abomasnow\n",
      "Name: Pokemon, Length: 721, dtype: object\n"
     ]
    }
   ],
   "source": [
    "print(data.sort_values(ascending=False))"
   ]
  },
  {
   "cell_type": "code",
   "execution_count": 40,
   "id": "5bae1098",
   "metadata": {},
   "outputs": [
    {
     "name": "stdout",
     "output_type": "stream",
     "text": [
      "RangeIndex(start=0, stop=721, step=1)\n",
      "['Bulbasaur' 'Ivysaur' 'Venusaur' 'Charmander' 'Charmeleon' 'Charizard'\n",
      " 'Squirtle' 'Wartortle' 'Blastoise' 'Caterpie' 'Metapod' 'Butterfree'\n",
      " 'Weedle' 'Kakuna' 'Beedrill' 'Pidgey' 'Pidgeotto' 'Pidgeot' 'Rattata'\n",
      " 'Raticate' 'Spearow' 'Fearow' 'Ekans' 'Arbok' 'Pikachu' 'Raichu'\n",
      " 'Sandshrew' 'Sandslash' 'Nidoran' 'Nidorina' 'Nidoqueen' 'Nidoran♂'\n",
      " 'Nidorino' 'Nidoking' 'Clefairy' 'Clefable' 'Vulpix' 'Ninetales'\n",
      " 'Jigglypuff' 'Wigglytuff' 'Zubat' 'Golbat' 'Oddish' 'Gloom' 'Vileplume'\n",
      " 'Paras' 'Parasect' 'Venonat' 'Venomoth' 'Diglett' 'Dugtrio' 'Meowth'\n",
      " 'Persian' 'Psyduck' 'Golduck' 'Mankey' 'Primeape' 'Growlithe' 'Arcanine'\n",
      " 'Poliwag' 'Poliwhirl' 'Poliwrath' 'Abra' 'Kadabra' 'Alakazam' 'Machop'\n",
      " 'Machoke' 'Machamp' 'Bellsprout' 'Weepinbell' 'Victreebel' 'Tentacool'\n",
      " 'Tentacruel' 'Geodude' 'Graveler' 'Golem' 'Ponyta' 'Rapidash' 'Slowpoke'\n",
      " 'Slowbro' 'Magnemite' 'Magneton' \"Farfetch'd\" 'Doduo' 'Dodrio' 'Seel'\n",
      " 'Dewgong' 'Grimer' 'Muk' 'Shellder' 'Cloyster' 'Gastly' 'Haunter'\n",
      " 'Gengar' 'Onix' 'Drowzee' 'Hypno' 'Krabby' 'Kingler' 'Voltorb'\n",
      " 'Electrode' 'Exeggcute' 'Exeggutor' 'Cubone' 'Marowak' 'Hitmonlee'\n",
      " 'Hitmonchan' 'Lickitung' 'Koffing' 'Weezing' 'Rhyhorn' 'Rhydon' 'Chansey'\n",
      " 'Tangela' 'Kangaskhan' 'Horsea' 'Seadra' 'Goldeen' 'Seaking' 'Staryu'\n",
      " 'Starmie' 'Mr. Mime' 'Scyther' 'Jynx' 'Electabuzz' 'Magmar' 'Pinsir'\n",
      " 'Tauros' 'Magikarp' 'Gyarados' 'Lapras' 'Ditto' 'Eevee' 'Vaporeon'\n",
      " 'Jolteon' 'Flareon' 'Porygon' 'Omanyte' 'Omastar' 'Kabuto' 'Kabutops'\n",
      " 'Aerodactyl' 'Snorlax' 'Articuno' 'Zapdos' 'Moltres' 'Dratini'\n",
      " 'Dragonair' 'Dragonite' 'Mewtwo' 'Mew' 'Chikorita' 'Bayleef' 'Meganium'\n",
      " 'Cyndaquil' 'Quilava' 'Typhlosion' 'Totodile' 'Croconaw' 'Feraligatr'\n",
      " 'Sentret' 'Furret' 'Hoothoot' 'Noctowl' 'Ledyba' 'Ledian' 'Spinarak'\n",
      " 'Ariados' 'Crobat' 'Chinchou' 'Lanturn' 'Pichu' 'Cleffa' 'Igglybuff'\n",
      " 'Togepi' 'Togetic' 'Natu' 'Xatu' 'Mareep' 'Flaaffy' 'Ampharos'\n",
      " 'Bellossom' 'Marill' 'Azumarill' 'Sudowoodo' 'Politoed' 'Hoppip'\n",
      " 'Skiploom' 'Jumpluff' 'Aipom' 'Sunkern' 'Sunflora' 'Yanma' 'Wooper'\n",
      " 'Quagsire' 'Espeon' 'Umbreon' 'Murkrow' 'Slowking' 'Misdreavus' 'Unown'\n",
      " 'Wobbuffet' 'Girafarig' 'Pineco' 'Forretress' 'Dunsparce' 'Gligar'\n",
      " 'Steelix' 'Snubbull' 'Granbull' 'Qwilfish' 'Scizor' 'Shuckle' 'Heracross'\n",
      " 'Sneasel' 'Teddiursa' 'Ursaring' 'Slugma' 'Magcargo' 'Swinub' 'Piloswine'\n",
      " 'Corsola' 'Remoraid' 'Octillery' 'Delibird' 'Mantine' 'Skarmory'\n",
      " 'Houndour' 'Houndoom' 'Kingdra' 'Phanpy' 'Donphan' 'Porygon2' 'Stantler'\n",
      " 'Smeargle' 'Tyrogue' 'Hitmontop' 'Smoochum' 'Elekid' 'Magby' 'Miltank'\n",
      " 'Blissey' 'Raikou' 'Entei' 'Suicune' 'Larvitar' 'Pupitar' 'Tyranitar'\n",
      " 'Lugia' 'Ho-oh' 'Celebi' 'Treecko' 'Grovyle' 'Sceptile' 'Torchic'\n",
      " 'Combusken' 'Blaziken' 'Mudkip' 'Marshtomp' 'Swampert' 'Poochyena'\n",
      " 'Mightyena' 'Zigzagoon' 'Linoone' 'Wurmple' 'Silcoon' 'Beautifly'\n",
      " 'Cascoon' 'Dustox' 'Lotad' 'Lombre' 'Ludicolo' 'Seedot' 'Nuzleaf'\n",
      " 'Shiftry' 'Taillow' 'Swellow' 'Wingull' 'Pelipper' 'Ralts' 'Kirlia'\n",
      " 'Gardevoir' 'Surskit' 'Masquerain' 'Shroomish' 'Breloom' 'Slakoth'\n",
      " 'Vigoroth' 'Slaking' 'Nincada' 'Ninjask' 'Shedinja' 'Whismur' 'Loudred'\n",
      " 'Exploud' 'Makuhita' 'Hariyama' 'Azurill' 'Nosepass' 'Skitty' 'Delcatty'\n",
      " 'Sableye' 'Mawile' 'Aron' 'Lairon' 'Aggron' 'Meditite' 'Medicham'\n",
      " 'Electrike' 'Manectric' 'Plusle' 'Minun' 'Volbeat' 'Illumise' 'Roselia'\n",
      " 'Gulpin' 'Swalot' 'Carvanha' 'Sharpedo' 'Wailmer' 'Wailord' 'Numel'\n",
      " 'Camerupt' 'Torkoal' 'Spoink' 'Grumpig' 'Spinda' 'Trapinch' 'Vibrava'\n",
      " 'Flygon' 'Cacnea' 'Cacturne' 'Swablu' 'Altaria' 'Zangoose' 'Seviper'\n",
      " 'Lunatone' 'Solrock' 'Barboach' 'Whiscash' 'Corphish' 'Crawdaunt'\n",
      " 'Baltoy' 'Claydol' 'Lileep' 'Cradily' 'Anorith' 'Armaldo' 'Feebas'\n",
      " 'Milotic' 'Castform' 'Kecleon' 'Shuppet' 'Banette' 'Duskull' 'Dusclops'\n",
      " 'Tropius' 'Chimecho' 'Absol' 'Wynaut' 'Snorunt' 'Glalie' 'Spheal'\n",
      " 'Sealeo' 'Walrein' 'Clamperl' 'Huntail' 'Gorebyss' 'Relicanth' 'Luvdisc'\n",
      " 'Bagon' 'Shelgon' 'Salamence' 'Beldum' 'Metang' 'Metagross' 'Regirock'\n",
      " 'Regice' 'Registeel' 'Latias' 'Latios' 'Kyogre' 'Groudon' 'Rayquaza'\n",
      " 'Jirachi' 'Deoxys' 'Turtwig' 'Grotle' 'Torterra' 'Chimchar' 'Monferno'\n",
      " 'Infernape' 'Piplup' 'Prinplup' 'Empoleon' 'Starly' 'Staravia'\n",
      " 'Staraptor' 'Bidoof' 'Bibarel' 'Kricketot' 'Kricketune' 'Shinx' 'Luxio'\n",
      " 'Luxray' 'Budew' 'Roserade' 'Cranidos' 'Rampardos' 'Shieldon' 'Bastiodon'\n",
      " 'Burmy' 'Wormadam' 'Mothim' 'Combee' 'Vespiquen' 'Pachirisu' 'Buizel'\n",
      " 'Floatzel' 'Cherubi' 'Cherrim' 'Shellos' 'Gastrodon' 'Ambipom' 'Drifloon'\n",
      " 'Drifblim' 'Buneary' 'Lopunny' 'Mismagius' 'Honchkrow' 'Glameow'\n",
      " 'Purugly' 'Chingling' 'Stunky' 'Skuntank' 'Bronzor' 'Bronzong' 'Bonsly'\n",
      " 'Mime Jr.' 'Happiny' 'Chatot' 'Spiritomb' 'Gible' 'Gabite' 'Garchomp'\n",
      " 'Munchlax' 'Riolu' 'Lucario' 'Hippopotas' 'Hippowdon' 'Skorupi' 'Drapion'\n",
      " 'Croagunk' 'Toxicroak' 'Carnivine' 'Finneon' 'Lumineon' 'Mantyke'\n",
      " 'Snover' 'Abomasnow' 'Weavile' 'Magnezone' 'Lickilicky' 'Rhyperior'\n",
      " 'Tangrowth' 'Electivire' 'Magmortar' 'Togekiss' 'Yanmega' 'Leafeon'\n",
      " 'Glaceon' 'Gliscor' 'Mamoswine' 'Porygon-Z' 'Gallade' 'Probopass'\n",
      " 'Dusknoir' 'Froslass' 'Rotom' 'Uxie' 'Mesprit' 'Azelf' 'Dialga' 'Palkia'\n",
      " 'Heatran' 'Regigigas' 'Giratina' 'Cresselia' 'Phione' 'Manaphy' 'Darkrai'\n",
      " 'Shaymin' 'Arceus' 'Victini' 'Snivy' 'Servine' 'Serperior' 'Tepig'\n",
      " 'Pignite' 'Emboar' 'Oshawott' 'Dewott' 'Samurott' 'Patrat' 'Watchog'\n",
      " 'Lillipup' 'Herdier' 'Stoutland' 'Purrloin' 'Liepard' 'Pansage'\n",
      " 'Simisage' 'Pansear' 'Simisear' 'Panpour' 'Simipour' 'Munna' 'Musharna'\n",
      " 'Pidove' 'Tranquill' 'Unfezant' 'Blitzle' 'Zebstrika' 'Roggenrola'\n",
      " 'Boldore' 'Gigalith' 'Woobat' 'Swoobat' 'Drilbur' 'Excadrill' 'Audino'\n",
      " 'Timburr' 'Gurdurr' 'Conkeldurr' 'Tympole' 'Palpitoad' 'Seismitoad'\n",
      " 'Throh' 'Sawk' 'Sewaddle' 'Swadloon' 'Leavanny' 'Venipede' 'Whirlipede'\n",
      " 'Scolipede' 'Cottonee' 'Whimsicott' 'Petilil' 'Lilligant' 'Basculin'\n",
      " 'Sandile' 'Krokorok' 'Krookodile' 'Darumaka' 'Darmanitan' 'Maractus'\n",
      " 'Dwebble' 'Crustle' 'Scraggy' 'Scrafty' 'Sigilyph' 'Yamask' 'Cofagrigus'\n",
      " 'Tirtouga' 'Carracosta' 'Archen' 'Archeops' 'Trubbish' 'Garbodor' 'Zorua'\n",
      " 'Zoroark' 'Minccino' 'Cinccino' 'Gothita' 'Gothorita' 'Gothitelle'\n",
      " 'Solosis' 'Duosion' 'Reuniclus' 'Ducklett' 'Swanna' 'Vanillite'\n",
      " 'Vanillish' 'Vanilluxe' 'Deerling' 'Sawsbuck' 'Emolga' 'Karrablast'\n",
      " 'Escavalier' 'Foongus' 'Amoonguss' 'Frillish' 'Jellicent' 'Alomomola'\n",
      " 'Joltik' 'Galvantula' 'Ferroseed' 'Ferrothorn' 'Klink' 'Klang'\n",
      " 'Klinklang' 'Tynamo' 'Eelektrik' 'Eelektross' 'Elgyem' 'Beheeyem'\n",
      " 'Litwick' 'Lampent' 'Chandelure' 'Axew' 'Fraxure' 'Haxorus' 'Cubchoo'\n",
      " 'Beartic' 'Cryogonal' 'Shelmet' 'Accelgor' 'Stunfisk' 'Mienfoo'\n",
      " 'Mienshao' 'Druddigon' 'Golett' 'Golurk' 'Pawniard' 'Bisharp'\n",
      " 'Bouffalant' 'Rufflet' 'Braviary' 'Vullaby' 'Mandibuzz' 'Heatmor'\n",
      " 'Durant' 'Deino' 'Zweilous' 'Hydreigon' 'Larvesta' 'Volcarona' 'Cobalion'\n",
      " 'Terrakion' 'Virizion' 'Tornadus' 'Thundurus' 'Reshiram' 'Zekrom'\n",
      " 'Landorus' 'Kyurem' 'Keldeo' 'Meloetta' 'Genesect' 'Chespin' 'Quilladin'\n",
      " 'Chesnaught' 'Fennekin' 'Braixen' 'Delphox' 'Froakie' 'Frogadier'\n",
      " 'Greninja' 'Bunnelby' 'Diggersby' 'Fletchling' 'Fletchinder' 'Talonflame'\n",
      " 'Scatterbug' 'Spewpa' 'Vivillon' 'Litleo' 'Pyroar' 'Flabébé' 'Floette'\n",
      " 'Florges' 'Skiddo' 'Gogoat' 'Pancham' 'Pangoro' 'Furfrou' 'Espurr'\n",
      " 'Meowstic' 'Honedge' 'Doublade' 'Aegislash' 'Spritzee' 'Aromatisse'\n",
      " 'Swirlix' 'Slurpuff' 'Inkay' 'Malamar' 'Binacle' 'Barbaracle' 'Skrelp'\n",
      " 'Dragalge' 'Clauncher' 'Clawitzer' 'Helioptile' 'Heliolisk' 'Tyrunt'\n",
      " 'Tyrantrum' 'Amaura' 'Aurorus' 'Sylveon' 'Hawlucha' 'Dedenne' 'Carbink'\n",
      " 'Goomy' 'Sliggoo' 'Goodra' 'Klefki' 'Phantump' 'Trevenant' 'Pumpkaboo'\n",
      " 'Gourgeist' 'Bergmite' 'Avalugg' 'Noibat' 'Noivern' 'Xerneas' 'Yveltal'\n",
      " 'Zygarde' 'Diancie' 'Hoopa' 'Volcanion']\n",
      "object\n"
     ]
    }
   ],
   "source": [
    "print(data.index)\n",
    "print(data.values)\n",
    "print(data.dtype)"
   ]
  },
  {
   "cell_type": "code",
   "execution_count": 44,
   "id": "c97de477",
   "metadata": {},
   "outputs": [
    {
     "name": "stdout",
     "output_type": "stream",
     "text": [
      "True\n",
      "1\n",
      "(721,)\n",
      "Pokemon\n",
      "721\n"
     ]
    }
   ],
   "source": [
    "print(data.is_unique)\n",
    "print(data.ndim)\n",
    "print(data.shape)\n",
    "print(data.name)\n",
    "print(data.size)"
   ]
  },
  {
   "cell_type": "code",
   "execution_count": null,
   "id": "ead02874",
   "metadata": {},
   "outputs": [],
   "source": []
  }
 ],
 "metadata": {
  "kernelspec": {
   "display_name": "Python 3 (ipykernel)",
   "language": "python",
   "name": "python3"
  },
  "language_info": {
   "codemirror_mode": {
    "name": "ipython",
    "version": 3
   },
   "file_extension": ".py",
   "mimetype": "text/x-python",
   "name": "python",
   "nbconvert_exporter": "python",
   "pygments_lexer": "ipython3",
   "version": "3.9.7"
  }
 },
 "nbformat": 4,
 "nbformat_minor": 5
}
