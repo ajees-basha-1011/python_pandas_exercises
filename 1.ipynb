{
 "cells": [
  {
   "cell_type": "code",
   "execution_count": null,
   "id": "eae3a4d2",
   "metadata": {},
   "outputs": [],
   "source": [
    "import pandas as pd"
   ]
  },
  {
   "cell_type": "code",
   "execution_count": 8,
   "id": "5f30035c",
   "metadata": {},
   "outputs": [
    {
     "name": "stdout",
     "output_type": "stream",
     "text": [
      "0    a\n",
      "1    b\n",
      "2    c\n",
      "3    d\n",
      "4    e\n",
      "dtype: object\n"
     ]
    }
   ],
   "source": [
    "names = ['a','b','c','d','e']\n",
    "data = pd.Series(names)\n",
    "print(data)"
   ]
  },
  {
   "cell_type": "code",
   "execution_count": 9,
   "id": "8b4caf86",
   "metadata": {},
   "outputs": [
    {
     "name": "stdout",
     "output_type": "stream",
     "text": [
      "0    1\n",
      "1    b\n",
      "2    3\n",
      "3    d\n",
      "4    5\n",
      "dtype: object\n"
     ]
    }
   ],
   "source": [
    "numbers = ['1','b','3','d','5']\n",
    "data = pd.Series(numbers)\n",
    "print(data)"
   ]
  },
  {
   "cell_type": "code",
   "execution_count": 11,
   "id": "db5b53a3",
   "metadata": {},
   "outputs": [
    {
     "name": "stdout",
     "output_type": "stream",
     "text": [
      "name      Ajees\n",
      "age          28\n",
      "city    Madurai\n",
      "dtype: object\n"
     ]
    }
   ],
   "source": [
    "my_dict = {\"name\":\"Ajees\",\"age\":28,\"city\":\"Madurai\"}\n",
    "data = pd.Series(my_dict)\n",
    "print(data)\n"
   ]
  },
  {
   "cell_type": "code",
   "execution_count": 13,
   "id": "a66bd533",
   "metadata": {},
   "outputs": [
    {
     "name": "stdout",
     "output_type": "stream",
     "text": [
      "0    1\n",
      "1    b\n",
      "2    3\n",
      "3    d\n",
      "4    5\n",
      "dtype: object\n",
      "RangeIndex(start=0, stop=5, step=1)\n",
      "['1' 'b' '3' 'd' '5']\n",
      "object\n"
     ]
    }
   ],
   "source": [
    "numbers = ['1','b','3','d','5']\n",
    "data = pd.Series(numbers)\n",
    "print(data)\n",
    "print(data.index)\n",
    "print(data.values)\n",
    "print(data.dtype)"
   ]
  },
  {
   "cell_type": "code",
   "execution_count": 18,
   "id": "34477c16",
   "metadata": {},
   "outputs": [
    {
     "name": "stdout",
     "output_type": "stream",
     "text": [
      "15\n",
      "120\n",
      "3.0\n"
     ]
    }
   ],
   "source": [
    "numbers = [1,2,3,4,5]\n",
    "data = pd.Series(numbers)\n",
    "print(data.sum())\n",
    "print(data.product())\n",
    "print(data.mean())"
   ]
  },
  {
   "cell_type": "code",
   "execution_count": 20,
   "id": "67370485",
   "metadata": {},
   "outputs": [
    {
     "name": "stdout",
     "output_type": "stream",
     "text": [
      "1    a\n",
      "2    b\n",
      "3    c\n",
      "4    d\n",
      "5    e\n",
      "dtype: object\n"
     ]
    }
   ],
   "source": [
    "numbers = [1,2,3,4,5]\n",
    "name = ['a','b','c','d','e']\n",
    "\n",
    "data = pd.Series(data=name, index=numbers)\n",
    "print(data)"
   ]
  },
  {
   "cell_type": "code",
   "execution_count": null,
   "id": "bbe07fcb",
   "metadata": {},
   "outputs": [],
   "source": []
  }
 ],
 "metadata": {
  "kernelspec": {
   "display_name": "Python 3 (ipykernel)",
   "language": "python",
   "name": "python3"
  },
  "language_info": {
   "codemirror_mode": {
    "name": "ipython",
    "version": 3
   },
   "file_extension": ".py",
   "mimetype": "text/x-python",
   "name": "python",
   "nbconvert_exporter": "python",
   "pygments_lexer": "ipython3",
   "version": "3.9.7"
  }
 },
 "nbformat": 4,
 "nbformat_minor": 5
}
