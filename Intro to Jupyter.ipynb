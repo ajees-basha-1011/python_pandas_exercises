{
 "cells": [
  {
   "cell_type": "code",
   "execution_count": null,
   "id": "725dba65",
   "metadata": {},
   "outputs": [],
   "source": [
    "import pandas a"
   ]
  },
  {
   "cell_type": "code",
   "execution_count": 4,
   "id": "c2a93c51",
   "metadata": {},
   "outputs": [
    {
     "name": "stdout",
     "output_type": "stream",
     "text": [
      "     Date    Country  Price in US Dollars\n",
      "0  1/2016  Argentina                 2.39\n",
      "1  1/2016  Australia                 3.74\n",
      "2  1/2016     Brazil                 3.35\n"
     ]
    }
   ],
   "source": [
    "data = pd.read_csv(\"bigmac.csv\")\n",
    "\n",
    "print(data.head(3))"
   ]
  },
  {
   "cell_type": "code",
   "execution_count": null,
   "id": "a3e56800",
   "metadata": {},
   "outputs": [],
   "source": []
  }
 ],
 "metadata": {
  "kernelspec": {
   "display_name": "Python 3 (ipykernel)",
   "language": "python",
   "name": "python3"
  },
  "language_info": {
   "codemirror_mode": {
    "name": "ipython",
    "version": 3
   },
   "file_extension": ".py",
   "mimetype": "text/x-python",
   "name": "python",
   "nbconvert_exporter": "python",
   "pygments_lexer": "ipython3",
   "version": "3.9.7"
  }
 },
 "nbformat": 4,
 "nbformat_minor": 5
}
